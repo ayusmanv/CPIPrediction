{
 "cells": [
  {
   "metadata": {},
   "cell_type": "markdown",
   "source": [
    "# Consumer Price Index (CPI) Prediction\n",
    "Building an RNN model to predict the CPI for month of September 2024. This Model leverages all the CPI data available since 1913. The Data was obtained from Bureau Of Labor Statistics (USA) on the month of September 2024, thus it has the CPI data till August 2024.\n",
    "\n",
    "I am using Recurrent Neural Network (RNN), a deep learning model to predict the September CPI.\n",
    "\n",
    "\n",
    "Import Packages"
   ],
   "id": "8a77807f92f26ee"
  },
  {
   "metadata": {
    "ExecuteTime": {
     "end_time": "2024-10-07T16:57:31.843330Z",
     "start_time": "2024-10-07T16:57:31.824740Z"
    }
   },
   "cell_type": "code",
   "source": [
    "import numpy as np\n",
    "import pandas as pd\n",
    "from sklearn.preprocessing import MinMaxScaler\n",
    "from keras.models import Sequential\n",
    "from keras.layers import Dense\n",
    "from keras.layers import LSTM\n",
    "from keras.layers import Dropout\n",
    "from keras.models import load_model\n"
   ],
   "id": "fbc121e30a2defb3",
   "outputs": [],
   "execution_count": 3
  },
  {
   "metadata": {},
   "cell_type": "markdown",
   "source": "#### Import Data",
   "id": "eafbfc75ecb604aa"
  },
  {
   "metadata": {
    "ExecuteTime": {
     "end_time": "2024-10-07T16:57:39.542511Z",
     "start_time": "2024-10-07T16:57:39.519824Z"
    }
   },
   "cell_type": "code",
   "source": "dataset = pd.read_csv('data/CPISeries.csv')",
   "id": "49f9f8d0e5b929a2",
   "outputs": [],
   "execution_count": 4
  },
  {
   "metadata": {
    "ExecuteTime": {
     "end_time": "2024-10-07T16:57:40.863309Z",
     "start_time": "2024-10-07T16:57:40.850789Z"
    }
   },
   "cell_type": "code",
   "source": "print(dataset.head())",
   "id": "5528f27141ef6558",
   "outputs": [
    {
     "name": "stdout",
     "output_type": "stream",
     "text": [
      "   Year   Jan   Feb   Mar   Apr   May   Jun   Jul   Aug   Sep   Oct   Nov  \\\n",
      "0  1913   9.8   9.8   9.8   9.8   9.7   9.8   9.9   9.9  10.0  10.0  10.1   \n",
      "1  1914  10.0   9.9   9.9   9.8   9.9   9.9  10.0  10.2  10.2  10.1  10.2   \n",
      "2  1915  10.1  10.0   9.9  10.0  10.1  10.1  10.1  10.1  10.1  10.2  10.3   \n",
      "3  1916  10.4  10.4  10.5  10.6  10.7  10.8  10.8  10.9  11.1  11.3  11.5   \n",
      "4  1917  11.7  12.0  12.0  12.6  12.8  13.0  12.8  13.0  13.3  13.5  13.5   \n",
      "\n",
      "    Dec  \n",
      "0  10.0  \n",
      "1  10.1  \n",
      "2  10.3  \n",
      "3  11.6  \n",
      "4  13.7  \n"
     ]
    }
   ],
   "execution_count": 5
  },
  {
   "metadata": {
    "ExecuteTime": {
     "end_time": "2024-10-07T16:57:43.139646Z",
     "start_time": "2024-10-07T16:57:43.121578Z"
    }
   },
   "cell_type": "code",
   "source": [
    "# Converting the data to long format\n",
    "dataset_melt = pd.melt(dataset, id_vars=['Year'], var_name='Month', value_name='CPI_Data')"
   ],
   "id": "4d48c559657f4743",
   "outputs": [],
   "execution_count": 6
  },
  {
   "metadata": {
    "ExecuteTime": {
     "end_time": "2024-10-07T16:57:44.260250Z",
     "start_time": "2024-10-07T16:57:44.244887Z"
    }
   },
   "cell_type": "code",
   "source": "print(dataset_melt.head())",
   "id": "414cd6391aa88ea5",
   "outputs": [
    {
     "name": "stdout",
     "output_type": "stream",
     "text": [
      "   Year Month  CPI_Data\n",
      "0  1913   Jan       9.8\n",
      "1  1914   Jan      10.0\n",
      "2  1915   Jan      10.1\n",
      "3  1916   Jan      10.4\n",
      "4  1917   Jan      11.7\n"
     ]
    }
   ],
   "execution_count": 7
  },
  {
   "metadata": {
    "ExecuteTime": {
     "end_time": "2024-10-07T16:57:46.524532Z",
     "start_time": "2024-10-07T16:57:46.502988Z"
    }
   },
   "cell_type": "code",
   "source": [
    "dataset_melt = dataset_melt.dropna(axis=0, how='any')\n",
    "X_train = dataset_melt.iloc[:,2:3].values\n",
    "scaler = MinMaxScaler(feature_range=(0, 1))\n",
    "X_train_scaled = scaler.fit_transform(X_train)"
   ],
   "id": "d29f14c327524085",
   "outputs": [],
   "execution_count": 8
  },
  {
   "metadata": {
    "ExecuteTime": {
     "end_time": "2024-10-07T16:57:49.317615Z",
     "start_time": "2024-10-07T16:57:49.304442Z"
    }
   },
   "cell_type": "code",
   "source": "print(X_train_scaled)",
   "id": "d8ec36ed3706054c",
   "outputs": [
    {
     "name": "stdout",
     "output_type": "stream",
     "text": [
      "[[3.27765687e-04]\n",
      " [9.83297061e-04]\n",
      " [1.31106275e-03]\n",
      " ...\n",
      " [8.82024019e-01]\n",
      " [9.41005454e-01]\n",
      " [9.73614862e-01]]\n"
     ]
    }
   ],
   "execution_count": 9
  },
  {
   "metadata": {},
   "cell_type": "markdown",
   "source": [
    "### Building the RNN\n",
    "##### Creating a 24 Timestamps (or two years)"
   ],
   "id": "9f6a28b6258b7f2d"
  },
  {
   "metadata": {
    "ExecuteTime": {
     "end_time": "2024-10-07T16:57:52.268955Z",
     "start_time": "2024-10-07T16:57:52.258235Z"
    }
   },
   "cell_type": "code",
   "source": [
    "X_train = []\n",
    "y_train = []\n",
    "timestamp = 24\n",
    "for i in range(timestamp, len(X_train_scaled)):\n",
    "    X_train.append(X_train_scaled[i-timestamp:i,0])\n",
    "    y_train.append(X_train_scaled[i,0])\n",
    "X_train = np.array(X_train)\n",
    "y_train = np.array(y_train)"
   ],
   "id": "735953477bac1376",
   "outputs": [],
   "execution_count": 10
  },
  {
   "metadata": {
    "ExecuteTime": {
     "end_time": "2024-10-07T16:58:00.323508Z",
     "start_time": "2024-10-07T16:58:00.311768Z"
    }
   },
   "cell_type": "code",
   "source": "print(X_train)",
   "id": "edd6aa1ddd1adc7",
   "outputs": [
    {
     "name": "stdout",
     "output_type": "stream",
     "text": [
      "[[3.27765687e-04 9.83297061e-04 1.31106275e-03 ... 1.14717990e-02\n",
      "  1.27828618e-02 1.34383932e-02]\n",
      " [9.83297061e-04 1.31106275e-03 2.29435981e-03 ... 1.27828618e-02\n",
      "  1.34383932e-02 1.44216902e-02]\n",
      " [1.31106275e-03 2.29435981e-03 6.55531374e-03 ... 1.34383932e-02\n",
      "  1.44216902e-02 1.47494559e-02]\n",
      " ...\n",
      " [4.96892781e-01 5.05414689e-01 5.19836379e-01 ... 7.91662296e-01\n",
      "  8.10479325e-01 8.21951124e-01]\n",
      " [5.05414689e-01 5.19836379e-01 5.38519024e-01 ... 8.10479325e-01\n",
      "  8.21951124e-01 8.82024019e-01]\n",
      " [5.19836379e-01 5.38519024e-01 5.47368697e-01 ... 8.21951124e-01\n",
      "  8.82024019e-01 9.41005454e-01]]\n"
     ]
    }
   ],
   "execution_count": 11
  },
  {
   "metadata": {
    "ExecuteTime": {
     "end_time": "2024-10-07T16:58:03.772354Z",
     "start_time": "2024-10-07T16:58:03.762474Z"
    }
   },
   "cell_type": "code",
   "source": "print(y_train)",
   "id": "6c53e65766b7c396",
   "outputs": [
    {
     "name": "stdout",
     "output_type": "stream",
     "text": [
      "[0.01442169 0.01474946 0.01409392 ... 0.88202402 0.94100545 0.97361486]\n"
     ]
    }
   ],
   "execution_count": 12
  },
  {
   "metadata": {},
   "cell_type": "markdown",
   "source": "#### Reshaping the Data",
   "id": "e930104ea91be7f5"
  },
  {
   "metadata": {
    "ExecuteTime": {
     "end_time": "2024-10-07T16:58:07.150451Z",
     "start_time": "2024-10-07T16:58:07.138087Z"
    }
   },
   "cell_type": "code",
   "source": "X_train = np.reshape(X_train, (X_train.shape[0], X_train.shape[1], 1))",
   "id": "e2ee67099349023f",
   "outputs": [],
   "execution_count": 13
  },
  {
   "metadata": {},
   "cell_type": "markdown",
   "source": [
    "#### Building the RNN\n",
    "Step 1 Building the LSTM"
   ],
   "id": "21916f029ae1e7e7"
  },
  {
   "metadata": {
    "ExecuteTime": {
     "end_time": "2024-10-07T16:58:11.365105Z",
     "start_time": "2024-10-07T16:58:10.266866Z"
    }
   },
   "cell_type": "code",
   "source": [
    "regressor = Sequential()\n",
    "# Adding the LSTM\n",
    "regressor.add(LSTM(units=50, return_sequences=True, input_shape=(X_train.shape[1], 1)))\n",
    "regressor.add(Dropout(0.2))\n",
    "# Adding Second LSTM\n",
    "regressor.add(LSTM(units=50, return_sequences=True))\n",
    "regressor.add(Dropout(0.2))\n",
    "# Adding Third LSTM \n",
    "regressor.add(LSTM(units=50, return_sequences=True))\n",
    "regressor.add(Dropout(0.2))\n",
    "# Adding 4th LSTM\n",
    "regressor.add(LSTM(units=50, return_sequences=False))\n",
    "regressor.add(Dropout(0.2))"
   ],
   "id": "a49cd6377dca9644",
   "outputs": [],
   "execution_count": 14
  },
  {
   "metadata": {},
   "cell_type": "markdown",
   "source": "#### Adding the output Layer",
   "id": "51bfdb0a037fc41c"
  },
  {
   "metadata": {
    "ExecuteTime": {
     "end_time": "2024-10-07T16:58:15.236211Z",
     "start_time": "2024-10-07T16:58:15.212727Z"
    }
   },
   "cell_type": "code",
   "source": "regressor.add(Dense(units=1))",
   "id": "7169ecf319fa8b7f",
   "outputs": [],
   "execution_count": 15
  },
  {
   "metadata": {},
   "cell_type": "markdown",
   "source": "#### Compile and Fitting",
   "id": "379460d8e356d989"
  },
  {
   "metadata": {
    "ExecuteTime": {
     "end_time": "2024-10-07T16:58:21.304972Z",
     "start_time": "2024-10-07T16:58:21.279834Z"
    }
   },
   "cell_type": "code",
   "source": "regressor.compile(optimizer='adam', loss='mean_squared_error')",
   "id": "e151ac60318732a3",
   "outputs": [],
   "execution_count": 16
  },
  {
   "metadata": {
    "ExecuteTime": {
     "end_time": "2024-10-07T17:02:46.282822Z",
     "start_time": "2024-10-07T16:58:25.454965Z"
    }
   },
   "cell_type": "code",
   "source": "regressor.fit(X_train, y_train,epochs=100,batch_size=10)",
   "id": "b398ca2ba8e634e3",
   "outputs": [
    {
     "name": "stdout",
     "output_type": "stream",
     "text": [
      "Epoch 1/100\n",
      "132/132 [==============================] - 8s 21ms/step - loss: 0.0510\n",
      "Epoch 2/100\n",
      "132/132 [==============================] - 3s 19ms/step - loss: 0.0302\n",
      "Epoch 3/100\n",
      "132/132 [==============================] - 3s 19ms/step - loss: 0.0203\n",
      "Epoch 4/100\n",
      "132/132 [==============================] - 3s 19ms/step - loss: 0.0187\n",
      "Epoch 5/100\n",
      "132/132 [==============================] - 3s 19ms/step - loss: 0.0174\n",
      "Epoch 6/100\n",
      "132/132 [==============================] - 2s 19ms/step - loss: 0.0156\n",
      "Epoch 7/100\n",
      "132/132 [==============================] - 3s 20ms/step - loss: 0.0182\n",
      "Epoch 8/100\n",
      "132/132 [==============================] - 3s 20ms/step - loss: 0.0174\n",
      "Epoch 9/100\n",
      "132/132 [==============================] - 3s 22ms/step - loss: 0.0156\n",
      "Epoch 10/100\n",
      "132/132 [==============================] - 3s 20ms/step - loss: 0.0166\n",
      "Epoch 11/100\n",
      "132/132 [==============================] - 3s 20ms/step - loss: 0.0127\n",
      "Epoch 12/100\n",
      "132/132 [==============================] - 3s 19ms/step - loss: 0.0130\n",
      "Epoch 13/100\n",
      "132/132 [==============================] - 3s 20ms/step - loss: 0.0108\n",
      "Epoch 14/100\n",
      "132/132 [==============================] - 3s 20ms/step - loss: 0.0121\n",
      "Epoch 15/100\n",
      "132/132 [==============================] - 3s 20ms/step - loss: 0.0097\n",
      "Epoch 16/100\n",
      "132/132 [==============================] - 2s 19ms/step - loss: 0.0113\n",
      "Epoch 17/100\n",
      "132/132 [==============================] - 2s 18ms/step - loss: 0.0127\n",
      "Epoch 18/100\n",
      "132/132 [==============================] - 2s 18ms/step - loss: 0.0105\n",
      "Epoch 19/100\n",
      "132/132 [==============================] - 2s 19ms/step - loss: 0.0100\n",
      "Epoch 20/100\n",
      "132/132 [==============================] - 2s 18ms/step - loss: 0.0118\n",
      "Epoch 21/100\n",
      "132/132 [==============================] - 2s 18ms/step - loss: 0.0107\n",
      "Epoch 22/100\n",
      "132/132 [==============================] - 2s 18ms/step - loss: 0.0096\n",
      "Epoch 23/100\n",
      "132/132 [==============================] - 2s 18ms/step - loss: 0.0082\n",
      "Epoch 24/100\n",
      "132/132 [==============================] - 2s 18ms/step - loss: 0.0075\n",
      "Epoch 25/100\n",
      "132/132 [==============================] - 2s 18ms/step - loss: 0.0071\n",
      "Epoch 26/100\n",
      "132/132 [==============================] - 2s 18ms/step - loss: 0.0070\n",
      "Epoch 27/100\n",
      "132/132 [==============================] - 2s 18ms/step - loss: 0.0088\n",
      "Epoch 28/100\n",
      "132/132 [==============================] - 2s 18ms/step - loss: 0.0077\n",
      "Epoch 29/100\n",
      "132/132 [==============================] - 2s 18ms/step - loss: 0.0071\n",
      "Epoch 30/100\n",
      "132/132 [==============================] - 2s 18ms/step - loss: 0.0075\n",
      "Epoch 31/100\n",
      "132/132 [==============================] - 2s 18ms/step - loss: 0.0067\n",
      "Epoch 32/100\n",
      "132/132 [==============================] - 2s 18ms/step - loss: 0.0069\n",
      "Epoch 33/100\n",
      "132/132 [==============================] - 2s 18ms/step - loss: 0.0085\n",
      "Epoch 34/100\n",
      "132/132 [==============================] - 2s 18ms/step - loss: 0.0076\n",
      "Epoch 35/100\n",
      "132/132 [==============================] - 2s 18ms/step - loss: 0.0085\n",
      "Epoch 36/100\n",
      "132/132 [==============================] - 2s 18ms/step - loss: 0.0084\n",
      "Epoch 37/100\n",
      "132/132 [==============================] - 2s 19ms/step - loss: 0.0079\n",
      "Epoch 38/100\n",
      "132/132 [==============================] - 2s 18ms/step - loss: 0.0115\n",
      "Epoch 39/100\n",
      "132/132 [==============================] - 2s 18ms/step - loss: 0.0077\n",
      "Epoch 40/100\n",
      "132/132 [==============================] - 2s 18ms/step - loss: 0.0087\n",
      "Epoch 41/100\n",
      "132/132 [==============================] - 2s 18ms/step - loss: 0.0076\n",
      "Epoch 42/100\n",
      "132/132 [==============================] - 2s 18ms/step - loss: 0.0090\n",
      "Epoch 43/100\n",
      "132/132 [==============================] - 2s 18ms/step - loss: 0.0080\n",
      "Epoch 44/100\n",
      "132/132 [==============================] - 2s 18ms/step - loss: 0.0057\n",
      "Epoch 45/100\n",
      "132/132 [==============================] - 2s 18ms/step - loss: 0.0077\n",
      "Epoch 46/100\n",
      "132/132 [==============================] - 2s 18ms/step - loss: 0.0068\n",
      "Epoch 47/100\n",
      "132/132 [==============================] - 2s 18ms/step - loss: 0.0072\n",
      "Epoch 48/100\n",
      "132/132 [==============================] - 2s 19ms/step - loss: 0.0077\n",
      "Epoch 49/100\n",
      "132/132 [==============================] - 2s 18ms/step - loss: 0.0058\n",
      "Epoch 50/100\n",
      "132/132 [==============================] - 2s 18ms/step - loss: 0.0073\n",
      "Epoch 51/100\n",
      "132/132 [==============================] - 2s 18ms/step - loss: 0.0080\n",
      "Epoch 52/100\n",
      "132/132 [==============================] - 2s 18ms/step - loss: 0.0062\n",
      "Epoch 53/100\n",
      "132/132 [==============================] - 2s 18ms/step - loss: 0.0072\n",
      "Epoch 54/100\n",
      "132/132 [==============================] - 2s 18ms/step - loss: 0.0056\n",
      "Epoch 55/100\n",
      "132/132 [==============================] - 2s 18ms/step - loss: 0.0064\n",
      "Epoch 56/100\n",
      "132/132 [==============================] - 2s 18ms/step - loss: 0.0080\n",
      "Epoch 57/100\n",
      "132/132 [==============================] - 2s 18ms/step - loss: 0.0069\n",
      "Epoch 58/100\n",
      "132/132 [==============================] - 2s 18ms/step - loss: 0.0058\n",
      "Epoch 59/100\n",
      "132/132 [==============================] - 2s 19ms/step - loss: 0.0060\n",
      "Epoch 60/100\n",
      "132/132 [==============================] - 3s 19ms/step - loss: 0.0060\n",
      "Epoch 61/100\n",
      "132/132 [==============================] - 2s 19ms/step - loss: 0.0059\n",
      "Epoch 62/100\n",
      "132/132 [==============================] - 3s 19ms/step - loss: 0.0064\n",
      "Epoch 63/100\n",
      "132/132 [==============================] - 3s 19ms/step - loss: 0.0060\n",
      "Epoch 64/100\n",
      "132/132 [==============================] - 3s 20ms/step - loss: 0.0084\n",
      "Epoch 65/100\n",
      "132/132 [==============================] - 2s 19ms/step - loss: 0.0073\n",
      "Epoch 66/100\n",
      "132/132 [==============================] - 2s 19ms/step - loss: 0.0064\n",
      "Epoch 67/100\n",
      "132/132 [==============================] - 2s 19ms/step - loss: 0.0067\n",
      "Epoch 68/100\n",
      "132/132 [==============================] - 3s 21ms/step - loss: 0.0061\n",
      "Epoch 69/100\n",
      "132/132 [==============================] - 3s 24ms/step - loss: 0.0053\n",
      "Epoch 70/100\n",
      "132/132 [==============================] - 3s 23ms/step - loss: 0.0057\n",
      "Epoch 71/100\n",
      "132/132 [==============================] - 3s 20ms/step - loss: 0.0048\n",
      "Epoch 72/100\n",
      "132/132 [==============================] - 3s 21ms/step - loss: 0.0085\n",
      "Epoch 73/100\n",
      "132/132 [==============================] - 3s 21ms/step - loss: 0.0070\n",
      "Epoch 74/100\n",
      "132/132 [==============================] - 3s 21ms/step - loss: 0.0046\n",
      "Epoch 75/100\n",
      "132/132 [==============================] - 3s 20ms/step - loss: 0.0060\n",
      "Epoch 76/100\n",
      "132/132 [==============================] - 3s 20ms/step - loss: 0.0044\n",
      "Epoch 77/100\n",
      "132/132 [==============================] - 3s 20ms/step - loss: 0.0061\n",
      "Epoch 78/100\n",
      "132/132 [==============================] - 3s 20ms/step - loss: 0.0044\n",
      "Epoch 79/100\n",
      "132/132 [==============================] - 3s 20ms/step - loss: 0.0055\n",
      "Epoch 80/100\n",
      "132/132 [==============================] - 3s 20ms/step - loss: 0.0059\n",
      "Epoch 81/100\n",
      "132/132 [==============================] - 3s 20ms/step - loss: 0.0042\n",
      "Epoch 82/100\n",
      "132/132 [==============================] - 3s 19ms/step - loss: 0.0054\n",
      "Epoch 83/100\n",
      "132/132 [==============================] - 3s 19ms/step - loss: 0.0054\n",
      "Epoch 84/100\n",
      "132/132 [==============================] - 3s 19ms/step - loss: 0.0048\n",
      "Epoch 85/100\n",
      "132/132 [==============================] - 3s 20ms/step - loss: 0.0039\n",
      "Epoch 86/100\n",
      "132/132 [==============================] - 3s 20ms/step - loss: 0.0054\n",
      "Epoch 87/100\n",
      "132/132 [==============================] - 3s 20ms/step - loss: 0.0029\n",
      "Epoch 88/100\n",
      "132/132 [==============================] - 3s 20ms/step - loss: 0.0055\n",
      "Epoch 89/100\n",
      "132/132 [==============================] - 3s 20ms/step - loss: 0.0031\n",
      "Epoch 90/100\n",
      "132/132 [==============================] - 3s 20ms/step - loss: 0.0034\n",
      "Epoch 91/100\n",
      "132/132 [==============================] - 3s 21ms/step - loss: 0.0027\n",
      "Epoch 92/100\n",
      "132/132 [==============================] - 3s 20ms/step - loss: 0.0031\n",
      "Epoch 93/100\n",
      "132/132 [==============================] - 3s 20ms/step - loss: 0.0018\n",
      "Epoch 94/100\n",
      "132/132 [==============================] - 3s 20ms/step - loss: 0.0035\n",
      "Epoch 95/100\n",
      "132/132 [==============================] - 3s 20ms/step - loss: 0.0023\n",
      "Epoch 96/100\n",
      "132/132 [==============================] - 3s 20ms/step - loss: 0.0040\n",
      "Epoch 97/100\n",
      "132/132 [==============================] - 3s 20ms/step - loss: 0.0033\n",
      "Epoch 98/100\n",
      "132/132 [==============================] - 3s 20ms/step - loss: 0.0019\n",
      "Epoch 99/100\n",
      "132/132 [==============================] - 3s 20ms/step - loss: 0.0038\n",
      "Epoch 100/100\n",
      "132/132 [==============================] - 3s 20ms/step - loss: 0.0028\n"
     ]
    },
    {
     "data": {
      "text/plain": [
       "<keras.callbacks.History at 0x2bdcb16b7c0>"
      ]
     },
     "execution_count": 17,
     "metadata": {},
     "output_type": "execute_result"
    }
   ],
   "execution_count": 17
  },
  {
   "metadata": {
    "ExecuteTime": {
     "end_time": "2024-10-07T17:03:40.114960Z",
     "start_time": "2024-10-07T17:03:15.361362Z"
    }
   },
   "cell_type": "code",
   "source": "regressor.save(\"models/CPI_Predictor\")",
   "id": "7e538a31b57a7b00",
   "outputs": [
    {
     "name": "stderr",
     "output_type": "stream",
     "text": [
      "WARNING:absl:Found untraced functions such as lstm_cell_layer_call_fn, lstm_cell_layer_call_and_return_conditional_losses, lstm_cell_1_layer_call_fn, lstm_cell_1_layer_call_and_return_conditional_losses, lstm_cell_2_layer_call_fn while saving (showing 5 of 8). These functions will not be directly callable after loading.\n"
     ]
    },
    {
     "name": "stdout",
     "output_type": "stream",
     "text": [
      "INFO:tensorflow:Assets written to: models/CPI_Predictor\\assets\n"
     ]
    },
    {
     "name": "stderr",
     "output_type": "stream",
     "text": [
      "INFO:tensorflow:Assets written to: models/CPI_Predictor\\assets\n"
     ]
    }
   ],
   "execution_count": 18
  },
  {
   "metadata": {},
   "cell_type": "markdown",
   "source": "### Prediction of September 2024 CPI",
   "id": "e38df86fb2101a74"
  },
  {
   "metadata": {
    "ExecuteTime": {
     "end_time": "2024-10-07T17:04:11.915924Z",
     "start_time": "2024-10-07T17:03:51.448312Z"
    }
   },
   "cell_type": "code",
   "source": "cpi_predictor = load_model(\"models/CPI_Predictor\")",
   "id": "c47c18d1e3d8b485",
   "outputs": [],
   "execution_count": 19
  },
  {
   "metadata": {
    "ExecuteTime": {
     "end_time": "2024-10-07T17:04:14.246931Z",
     "start_time": "2024-10-07T17:04:14.230365Z"
    }
   },
   "cell_type": "code",
   "source": "X_test = dataset_melt.iloc[-timestamp:, 2:3].values",
   "id": "e4ca99066c755303",
   "outputs": [],
   "execution_count": 20
  },
  {
   "metadata": {
    "ExecuteTime": {
     "end_time": "2024-10-07T17:04:16.056116Z",
     "start_time": "2024-10-07T17:04:16.051383Z"
    }
   },
   "cell_type": "code",
   "source": "print(X_test)",
   "id": "f63f6ce153a5ffc5",
   "outputs": [
    {
     "name": "stdout",
     "output_type": "stream",
     "text": [
      "[[174.   ]\n",
      " [176.7  ]\n",
      " [180.9  ]\n",
      " [184.3  ]\n",
      " [190.3  ]\n",
      " [196.8  ]\n",
      " [201.8  ]\n",
      " [210.036]\n",
      " [210.228]\n",
      " [215.949]\n",
      " [219.179]\n",
      " [225.672]\n",
      " [229.601]\n",
      " [233.049]\n",
      " [234.812]\n",
      " [236.525]\n",
      " [241.432]\n",
      " [246.524]\n",
      " [251.233]\n",
      " [256.974]\n",
      " [260.474]\n",
      " [278.802]\n",
      " [296.797]\n",
      " [306.746]]\n"
     ]
    }
   ],
   "execution_count": 21
  },
  {
   "metadata": {
    "ExecuteTime": {
     "end_time": "2024-10-07T17:04:19.728241Z",
     "start_time": "2024-10-07T17:04:19.718098Z"
    }
   },
   "cell_type": "code",
   "source": "X_test_scaled = scaler.transform(X_test)",
   "id": "c644fe11e606a2cd",
   "outputs": [],
   "execution_count": 22
  },
  {
   "metadata": {
    "ExecuteTime": {
     "end_time": "2024-10-07T17:04:21.391789Z",
     "start_time": "2024-10-07T17:04:21.386280Z"
    }
   },
   "cell_type": "code",
   "source": [
    "X_test = []\n",
    "X_test.append(X_test_scaled)\n",
    "X_test = np.array(X_test)"
   ],
   "id": "e6176883c2b33827",
   "outputs": [],
   "execution_count": 23
  },
  {
   "metadata": {
    "ExecuteTime": {
     "end_time": "2024-10-07T17:04:23.358245Z",
     "start_time": "2024-10-07T17:04:23.340175Z"
    }
   },
   "cell_type": "code",
   "source": "print(X_test)",
   "id": "d0d69da6d6ec9ab3",
   "outputs": [
    {
     "name": "stdout",
     "output_type": "stream",
     "text": [
      "[[[0.53851902]\n",
      "  [0.5473687 ]\n",
      "  [0.56113486]\n",
      "  [0.57227889]\n",
      "  [0.59194483]\n",
      "  [0.6132496 ]\n",
      "  [0.62963788]\n",
      "  [0.65663267]\n",
      "  [0.65726198]\n",
      "  [0.67601345]\n",
      "  [0.68660028]\n",
      "  [0.70788211]\n",
      "  [0.72076002]\n",
      "  [0.73206138]\n",
      "  [0.73783989]\n",
      "  [0.74345452]\n",
      "  [0.75953798]\n",
      "  [0.77622781]\n",
      "  [0.7916623 ]\n",
      "  [0.81047932]\n",
      "  [0.82195112]\n",
      "  [0.88202402]\n",
      "  [0.94100545]\n",
      "  [0.97361486]]]\n"
     ]
    }
   ],
   "execution_count": 24
  },
  {
   "metadata": {
    "ExecuteTime": {
     "end_time": "2024-10-07T17:04:26.195167Z",
     "start_time": "2024-10-07T17:04:26.182739Z"
    }
   },
   "cell_type": "code",
   "source": "X_test = np.reshape(X_test, (X_test.shape[0], X_test.shape[1], 1))",
   "id": "b4cb8ce532fd5ee3",
   "outputs": [],
   "execution_count": 25
  },
  {
   "metadata": {
    "ExecuteTime": {
     "end_time": "2024-10-07T17:04:30.878779Z",
     "start_time": "2024-10-07T17:04:29.480441Z"
    }
   },
   "cell_type": "code",
   "source": "Sept_CPI = cpi_predictor.predict(X_test)",
   "id": "f36e6df80e8ba0ce",
   "outputs": [
    {
     "name": "stdout",
     "output_type": "stream",
     "text": [
      "1/1 [==============================] - 1s 1s/step\n"
     ]
    }
   ],
   "execution_count": 26
  },
  {
   "metadata": {
    "ExecuteTime": {
     "end_time": "2024-10-07T17:04:37.809375Z",
     "start_time": "2024-10-07T17:04:37.792568Z"
    }
   },
   "cell_type": "code",
   "source": "Sept_CPI = scaler.inverse_transform(Sept_CPI)",
   "id": "34710ab776d24db6",
   "outputs": [],
   "execution_count": 27
  },
  {
   "metadata": {
    "ExecuteTime": {
     "end_time": "2024-10-07T17:04:39.922668Z",
     "start_time": "2024-10-07T17:04:39.905635Z"
    }
   },
   "cell_type": "code",
   "source": "print(Sept_CPI)",
   "id": "283bac1b756bc3bb",
   "outputs": [
    {
     "name": "stdout",
     "output_type": "stream",
     "text": [
      "[[126.924515]]\n"
     ]
    }
   ],
   "execution_count": 28
  }
 ],
 "metadata": {
  "kernelspec": {
   "display_name": "Python 3",
   "language": "python",
   "name": "python3"
  },
  "language_info": {
   "codemirror_mode": {
    "name": "ipython",
    "version": 2
   },
   "file_extension": ".py",
   "mimetype": "text/x-python",
   "name": "python",
   "nbconvert_exporter": "python",
   "pygments_lexer": "ipython2",
   "version": "2.7.6"
  }
 },
 "nbformat": 4,
 "nbformat_minor": 5
}
